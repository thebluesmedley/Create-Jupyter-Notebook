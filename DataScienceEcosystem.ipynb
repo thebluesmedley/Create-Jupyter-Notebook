{
 "cells": [
  {
   "cell_type": "markdown",
   "id": "4ea5979d-e3cf-42f2-89b0-1fff96d8a24a",
   "metadata": {
    "tags": []
   },
   "source": [
    "# Data Science Tools and Ecosystem"
   ]
  },
  {
   "cell_type": "markdown",
   "id": "d47db4ca-b5c1-4a2b-8041-e1f5416ffaaf",
   "metadata": {},
   "source": [
    "**Objectives**\n",
    "- Popular Languages\n",
    "- Common Libraries \n",
    "- Common Data Science Tools\n",
    "- Examples of Evaluating arithmetic Expressions in Python\n",
    "- Converting minutes to hours in Python"
   ]
  },
  {
   "cell_type": "markdown",
   "id": "758f1797-9eb1-4ceb-8baf-5f3d170a1f79",
   "metadata": {
    "tags": []
   },
   "source": [
    "In this notebook, Data Science Tools and Ecosystem are summarized "
   ]
  },
  {
   "cell_type": "markdown",
   "id": "078772e6-2823-4520-88c8-4f1f9ffee8e5",
   "metadata": {},
   "source": [
    "Some of the popular languages that Data Scientist use are:\n",
    "1. R\n",
    "2. Python\n",
    "3. Julia"
   ]
  },
  {
   "cell_type": "markdown",
   "id": "c128b26c-fcbe-496e-ac1d-14b992cff4b0",
   "metadata": {},
   "source": [
    "Some of the commonly used libraries used by Data Scientists include:\n",
    "1. Pandas\n",
    "2. Keras\n",
    "3. Tensor-Flow"
   ]
  },
  {
   "cell_type": "markdown",
   "id": "46e1149e-8857-4b77-b150-a25bc636cdd7",
   "metadata": {},
   "source": [
    "| Data Science Tools |\n",
    "| -----------------  |\n",
    "| Jupyter Notebooks  |\n",
    "| Annaconda          |\n",
    "| Visual Studio      |"
   ]
  },
  {
   "cell_type": "markdown",
   "id": "0c52da23-561b-45c4-b6bc-bec95b73e758",
   "metadata": {},
   "source": [
    "### Below are a few examples of evaluating arithmetic expressions in Python"
   ]
  },
  {
   "cell_type": "code",
   "execution_count": 1,
   "id": "4506c7bd-de63-4033-a531-70c29969e04e",
   "metadata": {
    "tags": []
   },
   "outputs": [
    {
     "data": {
      "text/plain": [
       "17"
      ]
     },
     "execution_count": 1,
     "metadata": {},
     "output_type": "execute_result"
    }
   ],
   "source": [
    "# This is a simple arithmetic expression to multiply integers\n",
    "(3*4)+5"
   ]
  },
  {
   "cell_type": "code",
   "execution_count": 2,
   "id": "aa1a7b0e-67ff-4dc6-b3a8-70f9b2403928",
   "metadata": {
    "tags": []
   },
   "outputs": [
    {
     "data": {
      "text/plain": [
       "3.3333333333333335"
      ]
     },
     "execution_count": 2,
     "metadata": {},
     "output_type": "execute_result"
    }
   ],
   "source": [
    "# This will convert 200 minutes to hours by dividing by 60\n",
    "200/60"
   ]
  },
  {
   "cell_type": "markdown",
   "id": "6fb4b2b5-c223-44ac-bbce-9f66abcf4f1c",
   "metadata": {},
   "source": [
    "## Author\n",
    "Mark Payne"
   ]
  }
 ],
 "metadata": {
  "kernelspec": {
   "display_name": "Python",
   "language": "python",
   "name": "conda-env-python-py"
  },
  "language_info": {
   "codemirror_mode": {
    "name": "ipython",
    "version": 3
   },
   "file_extension": ".py",
   "mimetype": "text/x-python",
   "name": "python",
   "nbconvert_exporter": "python",
   "pygments_lexer": "ipython3",
   "version": "3.7.12"
  }
 },
 "nbformat": 4,
 "nbformat_minor": 5
}
